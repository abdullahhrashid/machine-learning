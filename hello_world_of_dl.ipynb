{
  "cells": [
    {
      "cell_type": "code",
      "source": [
        "#grant sanderson of 3blue1brown called the mnist dataset the hello world of deep learning, this is my go at it"
      ],
      "metadata": {
        "id": "ys2LmSh9jn6Q"
      },
      "execution_count": null,
      "outputs": []
    },
    {
      "cell_type": "code",
      "execution_count": 18,
      "metadata": {
        "id": "m-4SCDZvouuN"
      },
      "outputs": [],
      "source": [
        "import torch\n",
        "import torch.nn as nn\n",
        "from sklearn.preprocessing import LabelEncoder,StandardScaler\n",
        "from torchvision import datasets, transforms\n",
        "from torch.utils.data import DataLoader\n",
        "import torch.nn.functional as F\n",
        "import torch.optim as optim\n",
        "import matplotlib.pyplot as plt"
      ]
    },
    {
      "cell_type": "code",
      "execution_count": 2,
      "metadata": {
        "id": "OO-16xS9o1T9",
        "colab": {
          "base_uri": "https://localhost:8080/"
        },
        "outputId": "c43be081-be62-4b88-eefb-27a0638076b3"
      },
      "outputs": [
        {
          "output_type": "stream",
          "name": "stderr",
          "text": [
            "100%|██████████| 9.91M/9.91M [00:11<00:00, 900kB/s] \n",
            "100%|██████████| 28.9k/28.9k [00:00<00:00, 132kB/s]\n",
            "100%|██████████| 1.65M/1.65M [00:01<00:00, 1.07MB/s]\n",
            "100%|██████████| 4.54k/4.54k [00:00<00:00, 5.26MB/s]\n"
          ]
        }
      ],
      "source": [
        "#importing the mnist dataset and normalizing it\n",
        "transform = transforms.Compose([\n",
        "    transforms.ToTensor(),\n",
        "    transforms.Normalize((0.1307,), (0.3081,))\n",
        "])\n",
        "\n",
        "training_set = datasets.MNIST('/',train=True,transform=transform,download=True)\n",
        "test_set = datasets.MNIST('/',train=False,transform=transform,download=True)\n",
        "\n",
        "training_loader = DataLoader(training_set,batch_size=32,shuffle=True)\n",
        "test_loader = DataLoader(test_set,batch_size=32,shuffle=True)"
      ]
    },
    {
      "cell_type": "code",
      "execution_count": 26,
      "metadata": {
        "id": "Xqqc7MCZp5RV"
      },
      "outputs": [],
      "source": [
        "#defining the neural network\n",
        "class network(nn.Module):\n",
        "\n",
        "    def __init__(self,input,output):\n",
        "        super().__init__()\n",
        "        self.layer1=nn.Linear(input,256)\n",
        "        self.layer2=nn.Linear(256,128)\n",
        "        self.layer3=nn.Linear(128,64)\n",
        "        self.layer4=nn.Linear(64,32)\n",
        "        self.layer5=nn.Linear(32,output)\n",
        "\n",
        "    def forward(self,X):\n",
        "        X = X.view(-1,784)\n",
        "        out=F.relu(self.layer1(X))\n",
        "        out=F.relu(self.layer2(out))\n",
        "        out=F.relu(self.layer3(out))\n",
        "        out=F.relu(self.layer4(out))\n",
        "        return self.layer5(out)\n",
        "\n",
        "#optimizing calculations with a gpu\n",
        "device = torch.device(\"cuda\" if torch.cuda.is_available() else \"cpu\")\n",
        "model = network(784,10)\n",
        "model = model.to(device)\n",
        "\n",
        "#hyperparameters\n",
        "n_epochs = 30\n",
        "learning_rate = 0.001\n",
        "loss = nn.CrossEntropyLoss()\n",
        "optimizer = optim.Adam(model.parameters(),lr=learning_rate,weight_decay=0.01)"
      ]
    },
    {
      "cell_type": "code",
      "execution_count": 27,
      "metadata": {
        "colab": {
          "base_uri": "https://localhost:8080/",
          "height": 1000
        },
        "id": "_lY3p5mYqFWF",
        "outputId": "9d70d483-67a4-4078-9b53-f63f8b8c907d"
      },
      "outputs": [
        {
          "output_type": "stream",
          "name": "stdout",
          "text": [
            "Epoch 1: Loss is 0.3634799074232578\n",
            "Epoch 2: Loss is 0.2157337566604217\n",
            "Epoch 3: Loss is 0.1945675227314234\n",
            "Epoch 4: Loss is 0.18609707370698453\n",
            "Epoch 5: Loss is 0.1823566394855579\n",
            "Epoch 6: Loss is 0.17690653553704422\n",
            "Epoch 7: Loss is 0.17655653151820103\n",
            "Epoch 8: Loss is 0.1724562523682912\n",
            "Epoch 9: Loss is 0.17243408405731123\n",
            "Epoch 10: Loss is 0.1718261552636822\n",
            "Epoch 11: Loss is 0.1712023218219479\n",
            "Epoch 12: Loss is 0.17052473013401032\n",
            "Epoch 13: Loss is 0.16889739810129006\n",
            "Epoch 14: Loss is 0.17166756170193354\n",
            "Epoch 15: Loss is 0.16834648748437564\n",
            "Epoch 16: Loss is 0.16879343919356665\n",
            "Epoch 17: Loss is 0.16641522501607736\n",
            "Epoch 18: Loss is 0.16867846751113733\n",
            "Epoch 19: Loss is 0.1687583843032519\n",
            "Epoch 20: Loss is 0.16709589839677016\n",
            "Epoch 21: Loss is 0.16887402141590913\n",
            "Epoch 22: Loss is 0.16779547597765923\n",
            "Epoch 23: Loss is 0.16667723245720067\n",
            "Epoch 24: Loss is 0.16663627190639577\n",
            "Epoch 25: Loss is 0.16885310632586478\n",
            "Epoch 26: Loss is 0.16778381316860516\n",
            "Epoch 27: Loss is 0.1656434534162283\n",
            "Epoch 28: Loss is 0.16535823804636796\n",
            "Epoch 29: Loss is 0.16562020526130994\n",
            "Epoch 30: Loss is 0.16699202259878318\n"
          ]
        },
        {
          "output_type": "execute_result",
          "data": {
            "text/plain": [
              "[<matplotlib.lines.Line2D at 0x7a0ed4ea9890>]"
            ]
          },
          "metadata": {},
          "execution_count": 27
        },
        {
          "output_type": "display_data",
          "data": {
            "text/plain": [
              "<Figure size 640x480 with 1 Axes>"
            ],
            "image/png": "[encoded data removed]"
          },
          "metadata": {}
        }
      ],
      "source": [
        "#training loop\n",
        "graph = {}\n",
        "\n",
        "for epoch in range(n_epochs):\n",
        "\n",
        "    total_loss = 0\n",
        "\n",
        "    for batch_x,batch_y in training_loader:\n",
        "\n",
        "        batch_x = batch_x.to(device)\n",
        "        batch_y = batch_y.to(device)\n",
        "\n",
        "        y_hat = model(batch_x)\n",
        "\n",
        "        l = loss(y_hat,batch_y)\n",
        "\n",
        "        l.backward()\n",
        "\n",
        "        optimizer.step()\n",
        "\n",
        "        optimizer.zero_grad()\n",
        "\n",
        "        total_loss += l.item() * batch_x.size(0)\n",
        "\n",
        "    avg_loss = total_loss/len(training_loader.dataset)\n",
        "\n",
        "    graph[epoch]=avg_loss\n",
        "\n",
        "    print(f'Epoch {epoch+1}: Loss is {avg_loss}')\n",
        "\n",
        "plt.title('Loss Vs Epochs')\n",
        "plt.xlabel('Epoch')\n",
        "plt.ylabel('Loss')\n",
        "plt.plot(graph.keys(),graph.values())"
      ]
    },
    {
      "cell_type": "code",
      "execution_count": 28,
      "metadata": {
        "colab": {
          "base_uri": "https://localhost:8080/"
        },
        "id": "7dyd8BvlslEM",
        "outputId": "e8c7a69a-e83d-4d31-dd3a-24a2bd1bcfbd"
      },
      "outputs": [
        {
          "output_type": "stream",
          "name": "stdout",
          "text": [
            "Test Accuracy: 95.38%\n"
          ]
        }
      ],
      "source": [
        "#model evaluation\n",
        "model.eval()\n",
        "correct = 0\n",
        "total = 0\n",
        "\n",
        "with torch.no_grad():\n",
        "    for inputs, labels in test_loader:\n",
        "        inputs=inputs.to(device)\n",
        "        labels=labels.to(device)\n",
        "        outputs = model(inputs)\n",
        "        _, predicted = torch.max(outputs, 1)\n",
        "        total += labels.size(0)\n",
        "        correct += (predicted == labels).sum().item()\n",
        "\n",
        "print(f\"Test Accuracy: {100 * correct / total:.2f}%\")"
      ]
    }
  ],
  "metadata": {
    "accelerator": "GPU",
    "colab": {
      "gpuType": "T4",
      "provenance": []
    },
    "kernelspec": {
      "display_name": "Python 3",
      "name": "python3"
    },
    "language_info": {
      "name": "python"
    }
  },
  "nbformat": 4,
  "nbformat_minor": 0
}
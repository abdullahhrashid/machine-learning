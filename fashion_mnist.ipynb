{
  "nbformat": 4,
  "nbformat_minor": 0,
  "metadata": {
    "colab": {
      "provenance": [],
      "gpuType": "T4"
    },
    "kernelspec": {
      "name": "python3",
      "display_name": "Python 3"
    },
    "language_info": {
      "name": "python"
    },
    "accelerator": "GPU"
  },
  "cells": [
    {
      "cell_type": "code",
      "execution_count": 1,
      "metadata": {
        "id": "QmFnk42z7R8T"
      },
      "outputs": [],
      "source": [
        "import torch\n",
        "import torch.nn as nn\n",
        "import torch.optim as optim\n",
        "from torch.utils.data import Dataset, DataLoader\n",
        "import torchvision\n",
        "import torchvision.transforms as transforms\n",
        "import torch.nn.functional as F\n",
        "import matplotlib.pyplot as plt"
      ]
    },
    {
      "cell_type": "code",
      "source": [
        "transform = transforms.Compose([\n",
        "    transforms.ToTensor(),\n",
        "    transforms.Normalize((0.5,), (0.5,)),\n",
        "    transforms.RandomHorizontalFlip(0.5),\n",
        "    transforms.RandomRotation(20)\n",
        "])\n",
        "\n",
        "trainset = torchvision.datasets.FashionMNIST(root='./data', train=True, download=True, transform=transform)\n",
        "\n",
        "trainloader = torch.utils.data.DataLoader(trainset, batch_size=32, shuffle=True)\n",
        "\n",
        "testset = torchvision.datasets.FashionMNIST(root='./data', train=False, download=True, transform=transform)\n",
        "\n",
        "testloader = torch.utils.data.DataLoader(testset, batch_size=32, shuffle=False)\n"
      ],
      "metadata": {
        "colab": {
          "base_uri": "https://localhost:8080/"
        },
        "id": "P4cAfYwJDk0W",
        "outputId": "c4fbe448-adb4-4bac-b939-8056704a647e"
      },
      "execution_count": 2,
      "outputs": [
        {
          "output_type": "stream",
          "name": "stderr",
          "text": [
            "100%|██████████| 26.4M/26.4M [00:03<00:00, 8.28MB/s]\n",
            "100%|██████████| 29.5k/29.5k [00:00<00:00, 136kB/s]\n",
            "100%|██████████| 4.42M/4.42M [00:01<00:00, 2.61MB/s]\n",
            "100%|██████████| 5.15k/5.15k [00:00<00:00, 11.8MB/s]\n"
          ]
        }
      ]
    },
    {
      "cell_type": "code",
      "source": [
        "class cnn(nn.Module):\n",
        "\n",
        "    def __init__(self):\n",
        "        super().__init__()\n",
        "\n",
        "        self.conv1 = nn.Conv2d(1, 16, kernel_size = (3,3))\n",
        "        self.bn1 = nn.BatchNorm2d(16)\n",
        "\n",
        "        self.conv2 = nn.Conv2d(16, 32, kernel_size = (3,3))\n",
        "        self.bn2 = nn.BatchNorm2d(32)\n",
        "\n",
        "        self.conv3 = nn.Conv2d(32, 64, kernel_size = (3,3))\n",
        "        self.bn3 = nn.BatchNorm2d(64)\n",
        "        self.pool1 = nn.MaxPool2d((3,3))\n",
        "\n",
        "        self.conv4 = nn.Conv2d(64, 70, kernel_size = (3,3))\n",
        "        self.bn4 = nn.BatchNorm2d(70)\n",
        "        self.pool2 = nn.MaxPool2d((3,3))\n",
        "\n",
        "        self.flat = nn.Flatten()\n",
        "\n",
        "        self.fc1 = nn.Linear(70,35)\n",
        "        self.bn5 = nn.BatchNorm1d(35)\n",
        "\n",
        "        self.fc2 = nn.Linear(35,10)\n",
        "\n",
        "    def forward(self, X):\n",
        "\n",
        "        out = self.bn1(self.conv1(X))\n",
        "        out = F.relu(out)\n",
        "\n",
        "        out = self.bn2(self.conv2(out))\n",
        "        out = F.relu(out)\n",
        "\n",
        "        out = self.bn3(self.conv3(out))\n",
        "        out = F.relu(out)\n",
        "        out = self.pool1(out)\n",
        "\n",
        "        out = self.bn4(self.conv4(out))\n",
        "        out = F.relu(out)\n",
        "        out = self.pool2(out)\n",
        "\n",
        "        out = self.flat(out)\n",
        "\n",
        "        out = self.bn5(self.fc1(out))\n",
        "        out = F.relu(out)\n",
        "\n",
        "        return self.fc2(out)\n",
        "\n",
        "model = cnn()\n",
        "device = torch.device('cuda' if torch.cuda.is_available() else 'cpu')\n",
        "model = model.to(device)\n",
        "n_epochs = 20\n",
        "learning_rate = 0.0001\n",
        "\n",
        "optimizer = optim.Adam(model.parameters(), lr = learning_rate, weight_decay = 0.0001)\n",
        "loss = nn.CrossEntropyLoss()\n"
      ],
      "metadata": {
        "id": "G51ABedNE3LI"
      },
      "execution_count": 3,
      "outputs": []
    },
    {
      "cell_type": "code",
      "source": [
        "graph = {}\n",
        "\n",
        "for epoch in range(n_epochs):\n",
        "    total_loss = 0\n",
        "\n",
        "    for batch_x, batch_y in trainloader:\n",
        "\n",
        "        batch_x = batch_x.to(device)\n",
        "        batch_y = batch_y.to(device)\n",
        "\n",
        "        optimizer.zero_grad()\n",
        "\n",
        "        y_hat = model(batch_x)\n",
        "\n",
        "        l = loss(y_hat, batch_y)\n",
        "\n",
        "        l.backward()\n",
        "\n",
        "        optimizer.step()\n",
        "\n",
        "        total_loss += l.item() * batch_x.shape[0]\n",
        "\n",
        "    avg_loss = total_loss / len(trainloader.dataset)\n",
        "\n",
        "    print(f'For Epoch {epoch+1}: Loss = {avg_loss}')\n",
        "\n",
        "    graph[epoch+1] = avg_loss\n",
        "\n",
        "plt.plot(graph.keys(), graph.values())\n",
        "plt.title('Loss Vs Epochs')\n",
        "plt.xlabel('Epoch')\n",
        "plt.ylabel('Loss')"
      ],
      "metadata": {
        "colab": {
          "base_uri": "https://localhost:8080/",
          "height": 836
        },
        "id": "rCDGtQzRKCjH",
        "outputId": "901f2833-1035-4373-b363-5dfbcd7b066a"
      },
      "execution_count": 5,
      "outputs": [
        {
          "output_type": "stream",
          "name": "stdout",
          "text": [
            "For Epoch 1: Loss = 0.5052158924976985\n",
            "For Epoch 2: Loss = 0.4626005635738373\n",
            "For Epoch 3: Loss = 0.433892350435257\n",
            "For Epoch 4: Loss = 0.41840724980831145\n",
            "For Epoch 5: Loss = 0.4045738245288531\n",
            "For Epoch 6: Loss = 0.3901072063644727\n",
            "For Epoch 7: Loss = 0.3830936722278595\n",
            "For Epoch 8: Loss = 0.37064435448646543\n",
            "For Epoch 9: Loss = 0.3649332584778468\n",
            "For Epoch 10: Loss = 0.36138493918180464\n",
            "For Epoch 11: Loss = 0.3522260046084722\n",
            "For Epoch 12: Loss = 0.34854836203257245\n",
            "For Epoch 13: Loss = 0.33709607143004733\n",
            "For Epoch 14: Loss = 0.3346401444753011\n",
            "For Epoch 15: Loss = 0.3339119760990143\n",
            "For Epoch 16: Loss = 0.3263752704222997\n",
            "For Epoch 17: Loss = 0.3238425281027953\n",
            "For Epoch 18: Loss = 0.32032931357820826\n",
            "For Epoch 19: Loss = 0.3192443318625291\n",
            "For Epoch 20: Loss = 0.3163131809393565\n"
          ]
        },
        {
          "output_type": "execute_result",
          "data": {
            "text/plain": [
              "Text(0, 0.5, 'Loss')"
            ]
          },
          "metadata": {},
          "execution_count": 5
        },
        {
          "output_type": "display_data",
          "data": {
            "text/plain": [
              "<Figure size 640x480 with 1 Axes>"
            ],
            "image/png": "[encoded data removed]"
          },
          "metadata": {}
        }
      ]
    },
    {
      "cell_type": "code",
      "source": [
        "#test set evaluation\n",
        "model.eval()\n",
        "correct = 0\n",
        "total = 0\n",
        "\n",
        "with torch.no_grad():\n",
        "    for batch_x, batch_y in testloader:\n",
        "        batch_x = batch_x.to(device)\n",
        "        batch_y = batch_y.to(device)\n",
        "\n",
        "        outputs = model(batch_x)\n",
        "\n",
        "        _, predicted = torch.max(outputs, 1)\n",
        "\n",
        "        total += batch_y.size(0)\n",
        "        correct += (predicted == batch_y).sum().item()\n",
        "\n",
        "accuracy = correct / total * 100\n",
        "print(f'Test Set Accuracy: {accuracy:.2f}%')"
      ],
      "metadata": {
        "colab": {
          "base_uri": "https://localhost:8080/"
        },
        "id": "xhtjlkdhLfci",
        "outputId": "1ed2acd7-3dda-4cc6-af97-1e055ebf39f4"
      },
      "execution_count": 7,
      "outputs": [
        {
          "output_type": "stream",
          "name": "stdout",
          "text": [
            "Test Set Accuracy: 88.13%\n"
          ]
        }
      ]
    }
  ]
}
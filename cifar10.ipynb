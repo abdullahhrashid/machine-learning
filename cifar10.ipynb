{
  "nbformat": 4,
  "nbformat_minor": 0,
  "metadata": {
    "colab": {
      "provenance": [],
      "gpuType": "T4"
    },
    "kernelspec": {
      "name": "python3",
      "display_name": "Python 3"
    },
    "language_info": {
      "name": "python"
    },
    "accelerator": "GPU"
  },
  "cells": [
    {
      "cell_type": "code",
      "source": [
        "#a cnn for the famous cifar10 dataset"
      ],
      "metadata": {
        "id": "5P6-4NCEk6Pe"
      },
      "execution_count": null,
      "outputs": []
    },
    {
      "cell_type": "code",
      "execution_count": 1,
      "metadata": {
        "id": "kh0CJq_e0Iwc"
      },
      "outputs": [],
      "source": [
        "#imports\n",
        "import torch\n",
        "import torch.nn as nn\n",
        "from torch.utils.data import Dataset, DataLoader\n",
        "from sklearn.preprocessing import LabelEncoder\n",
        "import torchvision\n",
        "import torch.nn.functional as F\n",
        "import torch.optim as optim\n",
        "import matplotlib.pyplot as plt"
      ]
    },
    {
      "cell_type": "code",
      "source": [
        "#data imports and transforms\n",
        "transform = torchvision.transforms.Compose([\n",
        "    torchvision.transforms.RandomHorizontalFlip(),\n",
        "    torchvision.transforms.RandomRotation(10),\n",
        "    torchvision.transforms.RandomCrop(32, padding=4),\n",
        "    torchvision.transforms.ColorJitter(brightness=0.2, saturation=0.3, hue=0.2, contrast=0.3),\n",
        "\n",
        "    torchvision.transforms.ToTensor(),\n",
        "    torchvision.transforms.Normalize([0.49139968, 0.48215827 ,0.44653124],[0.24703233, 0.24348505, 0.26158768])\n",
        "    ])\n",
        "\n",
        "training_set = torchvision.datasets.CIFAR10('/',train=True,download=True,transform=transform)\n",
        "test_set = torchvision.datasets.CIFAR10('/', train=False, download=True, transform=transform)\n",
        "\n",
        "training_dataloader = DataLoader(training_set, batch_size=32, shuffle = True)\n",
        "test_dataloader = DataLoader(test_set, batch_size=32, shuffle = True)"
      ],
      "metadata": {
        "id": "C5Qp5ITM0RFD",
        "colab": {
          "base_uri": "https://localhost:8080/"
        },
        "outputId": "7d320876-bdcc-4779-d869-5f8c42640258"
      },
      "execution_count": 2,
      "outputs": [
        {
          "output_type": "stream",
          "name": "stderr",
          "text": [
            "100%|██████████| 170M/170M [00:12<00:00, 13.3MB/s]\n"
          ]
        }
      ]
    },
    {
      "cell_type": "code",
      "source": [
        "#model defination\n",
        "class cnn(nn.Module):\n",
        "\n",
        "    def __init__(self,in_channels,labels):\n",
        "        super().__init__()\n",
        "\n",
        "        self.conv1 = nn.Conv2d(in_channels, 32, kernel_size=3)\n",
        "        self.bn1 = nn.BatchNorm2d(32)\n",
        "\n",
        "        self.conv2 = nn.Conv2d(32, 64, kernel_size=3)\n",
        "        self.bn2 = nn.BatchNorm2d(64)\n",
        "\n",
        "        self.conv3 = nn.Conv2d(64, 128, kernel_size=3)\n",
        "        self.bn3 = nn.BatchNorm2d(128)\n",
        "        self.pool3 = nn.MaxPool2d(2)\n",
        "\n",
        "        self.conv4 = nn.Conv2d(128, 256, kernel_size=3)\n",
        "        self.bn4 = nn.BatchNorm2d(256)\n",
        "        self.pool4 = nn.MaxPool2d(2)\n",
        "\n",
        "        self.conv5 = nn.Conv2d(256,512,kernel_size=3,stride=2)\n",
        "        self.bn5 = nn.BatchNorm2d(512)\n",
        "        self.pool5 = nn.MaxPool2d(2)\n",
        "\n",
        "        self.flat = nn.Flatten()\n",
        "\n",
        "        self.fc1 = nn.Linear(512,256)\n",
        "        self.bn11 = nn.BatchNorm1d(256)\n",
        "\n",
        "        self.fc2 = nn.Linear(256,128)\n",
        "        self.bn12 = nn.BatchNorm1d(128)\n",
        "\n",
        "        self.fc3 = nn.Linear(128,64)\n",
        "        self.bn13= nn.BatchNorm1d(64)\n",
        "\n",
        "        self.fc4 = nn.Linear(64,labels)\n",
        "\n",
        "    def forward(self,X):\n",
        "        out = self.bn1(self.conv1(X))\n",
        "        out = F.relu(out)\n",
        "\n",
        "        out = self.bn2(self.conv2(out))\n",
        "        out = F.relu(out)\n",
        "\n",
        "        out = self.bn3(self.conv3(out))\n",
        "        out = F.relu(out)\n",
        "        out = self.pool3(out)\n",
        "\n",
        "        out = self.bn4(self.conv4(out))\n",
        "        out = F.relu(out)\n",
        "        out = self.pool4(out)\n",
        "\n",
        "        out = self.bn5(self.conv5(out))\n",
        "        out = F.relu(out)\n",
        "        out = self.pool5(out)\n",
        "\n",
        "        out = self.flat(out)\n",
        "\n",
        "        out = F.relu(self.bn11(self.fc1(out)))\n",
        "        out = F.relu(self.bn12(self.fc2(out)))\n",
        "        out = F.relu(self.bn13(self.fc3(out)))\n",
        "\n",
        "        return self.fc4(out)\n",
        "\n",
        "model = cnn(3,10)\n",
        "device = torch.device('cuda' if torch.cuda.is_available() else 'cpu')\n",
        "model = model.to(device)\n",
        "\n",
        "n_epochs = 50\n",
        "learning_rate = 0.001\n",
        "\n",
        "loss = nn.CrossEntropyLoss()\n",
        "optimizer = optim.Adam(model.parameters(),lr=learning_rate)"
      ],
      "metadata": {
        "id": "O60ZLbn36X6E"
      },
      "execution_count": 22,
      "outputs": []
    },
    {
      "cell_type": "code",
      "source": [
        "#training loop\n",
        "graph = {}\n",
        "\n",
        "for epoch in range(n_epochs):\n",
        "    total_loss = 0\n",
        "    for batch_x,batch_y in training_dataloader:\n",
        "\n",
        "        batch_x = batch_x.to(device)\n",
        "        batch_y = batch_y.to(device)\n",
        "\n",
        "        y_hat = model(batch_x)\n",
        "\n",
        "        l = loss(y_hat,batch_y)\n",
        "\n",
        "        l.backward()\n",
        "\n",
        "        optimizer.step()\n",
        "\n",
        "        optimizer.zero_grad()\n",
        "\n",
        "        total_loss += l.item()\n",
        "\n",
        "    avg_loss = (total_loss * training_dataloader.batch_size) / len(training_dataloader.dataset)\n",
        "    graph[epoch+1] = avg_loss\n",
        "\n",
        "    if (epoch+1)%10 == 0:\n",
        "      print(f'Epoch {epoch+1}: Loss = {avg_loss}')\n",
        "\n",
        "plt.title('Loss Vs Epochs')\n",
        "plt.xlabel('Epoch')\n",
        "plt.ylabel('Loss')\n",
        "plt.plot(graph.keys(),graph.values())"
      ],
      "metadata": {
        "colab": {
          "base_uri": "https://localhost:8080/",
          "height": 580
        },
        "id": "_T8qocRD_aSh",
        "outputId": "89ee5118-c6f9-4f24-eee8-f952fd44ecee"
      },
      "execution_count": 23,
      "outputs": [
        {
          "output_type": "stream",
          "name": "stdout",
          "text": [
            "Epoch 10: Loss = 0.6861018879508972\n",
            "Epoch 20: Loss = 0.5261111712551116\n",
            "Epoch 30: Loss = 0.4389540041780472\n",
            "Epoch 40: Loss = 0.3793951253080368\n",
            "Epoch 50: Loss = 0.3404180399656296\n"
          ]
        },
        {
          "output_type": "execute_result",
          "data": {
            "text/plain": [
              "[<matplotlib.lines.Line2D at 0x7d6680b4d010>]"
            ]
          },
          "metadata": {},
          "execution_count": 23
        },
        {
          "output_type": "display_data",
          "data": {
            "text/plain": [
              "<Figure size 640x480 with 1 Axes>"
            ],
            "image/png": "[encoded data removed]"
          },
          "metadata": {}
        }
      ]
    },
    {
      "cell_type": "code",
      "source": [
        "#training set evaluation\n",
        "model.eval()\n",
        "correct = 0\n",
        "total = 0\n",
        "\n",
        "with torch.no_grad():\n",
        "    for batch_x, batch_y in training_dataloader:\n",
        "        batch_x = batch_x.to(device)\n",
        "        batch_y = batch_y.to(device)\n",
        "\n",
        "        outputs = model(batch_x)\n",
        "\n",
        "        _, predicted = torch.max(outputs, 1)\n",
        "\n",
        "        total += batch_y.size(0)\n",
        "        correct += (predicted == batch_y).sum().item()\n",
        "\n",
        "accuracy = correct / total * 100\n",
        "print(f'Training Set Accuracy: {accuracy:.2f}%')"
      ],
      "metadata": {
        "colab": {
          "base_uri": "https://localhost:8080/"
        },
        "id": "USQmca4ImH9q",
        "outputId": "e3ee0da2-f946-48ea-ac46-8b94de3ab199"
      },
      "execution_count": 24,
      "outputs": [
        {
          "output_type": "stream",
          "name": "stdout",
          "text": [
            "Training Set Accuracy: 90.25%\n"
          ]
        }
      ]
    },
    {
      "cell_type": "code",
      "source": [
        "#test set evaluation\n",
        "model.eval()\n",
        "correct = 0\n",
        "total = 0\n",
        "\n",
        "with torch.no_grad():\n",
        "    for batch_x, batch_y in test_dataloader:\n",
        "        batch_x = batch_x.to(device)\n",
        "        batch_y = batch_y.to(device)\n",
        "\n",
        "        outputs = model(batch_x)\n",
        "\n",
        "        _, predicted = torch.max(outputs, 1)\n",
        "\n",
        "        total += batch_y.size(0)\n",
        "        correct += (predicted == batch_y).sum().item()\n",
        "\n",
        "accuracy = correct / total * 100\n",
        "print(f'Test Set Accuracy: {accuracy:.2f}%')"
      ],
      "metadata": {
        "colab": {
          "base_uri": "https://localhost:8080/"
        },
        "id": "bFTBI6RaBwEe",
        "outputId": "ffccd6d2-5603-461d-a9cc-6a886733ecf9"
      },
      "execution_count": 25,
      "outputs": [
        {
          "output_type": "stream",
          "name": "stdout",
          "text": [
            "Test Set Accuracy: 83.69%\n"
          ]
        }
      ]
    },
    {
      "cell_type": "code",
      "source": [
        "#the model has a little bias and is also overfitting. i could fix the bias by making the model more deeper and training for more epochs.\n",
        "#i could also fix the overfitting problem by doing some more data augmentaion, adding l2 regularization and adding dropout. but,\n",
        "#unfortunately i don't have the resources train such a model"
      ],
      "metadata": {
        "id": "K4f6KQyelRsz"
      },
      "execution_count": null,
      "outputs": []
    }
  ]
}
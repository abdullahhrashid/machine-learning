{
  "cells": [
    {
      "cell_type": "code",
      "source": [
        "#this is me trying to make my first nerual network, so a thousand apologies if the code is bad"
      ],
      "metadata": {
        "id": "YauG5hfaaOPg"
      },
      "execution_count": null,
      "outputs": []
    },
    {
      "cell_type": "code",
      "source": [
        "import torch.nn as nn\n",
        "import torch\n",
        "import torch.nn.functional as F\n",
        "import pandas as pd\n",
        "import numpy as np\n",
        "from sklearn.preprocessing import LabelEncoder\n",
        "import torch.optim as optim"
      ],
      "metadata": {
        "id": "5CQcPpsBJ88I"
      },
      "execution_count": 38,
      "outputs": []
    },
    {
      "cell_type": "code",
      "source": [
        "#importing data\n",
        "x = pd.read_csv('Iris.csv')\n",
        "le = LabelEncoder()\n",
        "x['encoded'] = le.fit_transform(x['Species'])\n",
        "y = x['encoded']\n",
        "x = x.drop(columns=['Species','Id','encoded'])\n",
        "x=np.array(x,dtype=np.float32)\n",
        "y=np.array(y)\n",
        "X = torch.from_numpy(x)\n",
        "Y = torch.from_numpy(y)"
      ],
      "metadata": {
        "id": "6hITk4aqLpIj"
      },
      "execution_count": 53,
      "outputs": []
    },
    {
      "cell_type": "code",
      "source": [
        "#model defination\n",
        "class model(nn.Module):\n",
        "\n",
        "    def __init__(self,input,output):\n",
        "        super(model,self).__init__()\n",
        "        self.layer1=nn.Linear(input,4)\n",
        "        self.layer2=nn.Linear(4,6)\n",
        "        self.layer3=nn.Linear(6,output)\n",
        "\n",
        "    def forward(self,X):\n",
        "        out=F.relu(self.layer1(X))\n",
        "        out=F.relu(self.layer2(out))\n",
        "        return self.layer3(out)\n",
        "\n",
        "net = model(4,3)\n",
        "\n",
        "#hyperparameters\n",
        "n_epochs=1000\n",
        "learning_rate=0.001\n",
        "loss=nn.CrossEntropyLoss()\n",
        "optimizer=optim.Adam(net.parameters(),lr=learning_rate)"
      ],
      "metadata": {
        "id": "iNkTuqknJ--M"
      },
      "execution_count": 69,
      "outputs": []
    },
    {
      "cell_type": "code",
      "source": [
        "#training loop\n",
        "for epoch in range(n_epochs):\n",
        "\n",
        "    prediction = net(X)\n",
        "    l=loss(prediction,Y)\n",
        "\n",
        "    l.backward()\n",
        "    optimizer.step()\n",
        "    optimizer.zero_grad()\n",
        "\n",
        "    if (epoch+1)%100==0:\n",
        "        print(f\"Epoch [{epoch+1}], Loss: {l.item():.4f}\")\n"
      ],
      "metadata": {
        "colab": {
          "base_uri": "https://localhost:8080/"
        },
        "id": "akiUUwSiKR3e",
        "outputId": "38b8a633-c4fa-424f-9218-52008fcd6087"
      },
      "execution_count": 70,
      "outputs": [
        {
          "output_type": "stream",
          "name": "stdout",
          "text": [
            "Epoch [100], Loss: 0.9753\n",
            "Epoch [200], Loss: 0.7033\n",
            "Epoch [300], Loss: 0.4876\n",
            "Epoch [400], Loss: 0.3642\n",
            "Epoch [500], Loss: 0.2633\n",
            "Epoch [600], Loss: 0.1886\n",
            "Epoch [700], Loss: 0.1413\n",
            "Epoch [800], Loss: 0.1125\n",
            "Epoch [900], Loss: 0.0945\n",
            "Epoch [1000], Loss: 0.0827\n"
          ]
        }
      ]
    },
    {
      "cell_type": "code",
      "source": [
        "#evaluation\n",
        "net.eval()\n",
        "\n",
        "with torch.no_grad():\n",
        "    outputs = net(X)\n",
        "    _, predicted = torch.max(outputs, 1)\n",
        "    correct = (predicted == Y).sum().item()\n",
        "    total = Y.size(0)\n",
        "\n",
        "    print(f\"Test Accuracy: {100 * correct / total:.2f}%\")"
      ],
      "metadata": {
        "colab": {
          "base_uri": "https://localhost:8080/"
        },
        "id": "95tBdjDPRAcH",
        "outputId": "bfc28cce-bb26-4ecb-aded-8eaa09001cb6"
      },
      "execution_count": 74,
      "outputs": [
        {
          "output_type": "stream",
          "name": "stdout",
          "text": [
            "Test Accuracy: 98.00%\n"
          ]
        }
      ]
    }
  ],
  "metadata": {
    "colab": {
      "provenance": []
    },
    "kernelspec": {
      "display_name": "Python 3",
      "name": "python3"
    },
    "language_info": {
      "name": "python"
    }
  },
  "nbformat": 4,
  "nbformat_minor": 0
}